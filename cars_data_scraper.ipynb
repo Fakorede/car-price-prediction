{
 "cells": [
  {
   "cell_type": "code",
   "execution_count": 1,
   "id": "15767d48",
   "metadata": {},
   "outputs": [],
   "source": [
    "# Import necessary libraries\n",
    "\n",
    "import requests\n",
    "import pandas as pd\n",
    "from tqdm import tqdm\n",
    "from bs4 import BeautifulSoup as bs4"
   ]
  },
  {
   "cell_type": "markdown",
   "id": "70a96872",
   "metadata": {},
   "source": [
    "Scrape Data from [Cars45](https://www.cars45.com)"
   ]
  },
  {
   "cell_type": "code",
   "execution_count": 2,
   "id": "670c5932",
   "metadata": {},
   "outputs": [
    {
     "name": "stderr",
     "output_type": "stream",
     "text": [
      "100%|█████████████████████████████████████████████| 9/9 [00:09<00:00,  1.01s/it]"
     ]
    },
    {
     "name": "stdout",
     "output_type": "stream",
     "text": [
      "['/pVXt3r6r50qW9EP9pNQ4UaVe', '/uvHXSk0p7JEbHaAte6VGmC1d', '/jOhUuxj0eqGjoNKcUXkdz259', '/6CdsLr3x5KZIyvTlFRHw8fjt', '/7S7WvZQZcIkI520aCNy42F1Q', '/3Xn2ixt0LiGZKBcMEBk2tKYS', '/BPOlZIce5EVwyq0kwZVCcFBi', '/CiMgYtvaKohZZy2DAoah0sSy', '/uH8tNfkAKk23wDmO7cizPMil', '/dXIXGOzjMhNWHd0buV9PWvgp', '/rOHjFddRoVljCSUSeJ97xwmL', '/cqoEjEv7Hj9HuVi9j6VZXzxW', '/kZWlRfwWMsRWZSPEw04UZnSV', '/x5G17vMD2GHvKeEv23P6vBKL', '/yPPwFscUX5RKGu42M4uP3fSQ', '/kmxW8aPf48lSLUKwkWQ846mA', '/dqIegH4NGMY1TV1A1OPS69jr', '/zqzzeAXLWBWcrt9xd1SNMGt4', '/CeTOrm2LTmq4wpIV1zuc3VnQ', '/zp6qxOIklsvMAUdm0gxjKx6E', '/nMT3ZIa1f2XP522bCIMvVM9b', '/gcpYFHMrC6yrv5orgdIIFeN4', '/igMByaB3FU8ZdoyCC95ZGBat', '/17DHOKAzPr2ixyehbxqzbDZA', '/wdbofMkEfXj9twLtDqvLRayx', '/3AnHmns4QUxOfaSPTSXcJ2vy', '/wtJFnGlKKpbBWAuvJjlPGxgp', '/kjwqWhNX949INI6JepeNDKew', '/axCnlgFUNe4L9fSsO0TDowlj', '/BSVfgx56quXSC7qd2lV8cAEQ', '/tUvnnwzhFAR66XaKYdAIE7a0', '/z6cqAOQwpevXvCgLsvqdqGNR', '/wCttRolR8qSSuu2boXnM5Ssp', '/6aboVzOg9CrsRVoczw9Bb9Tj', '/yyA3jOlGFqdOF3OL0kdyj0lh', '/83DKfpbv1PnBhVgdBJdeF20V', '/yFr0edIttDARZd3T3SYhIh2X', '/eYiPLP0sdAa6NXScQW8YJrE9', '/rGZHiSJQkSr62rHlltfcAzWt', '/dbhOypgcNBZ31NcDJg1ivsz4', '/bsuT8nPnFa9WhATbOdb2TNqz', '/1AdsWaXrtnDsAQfw8ClYn7LT', '/6qDJriLZkRPyZ2cg3S2pC7cN', '/oDa0YRlUS2v0sUvrFqRNIvai', '/45FJVTyL0ClGHCOqw5Dh9Lev', '/tSgC2MDrskSL0BN8wG6HbzMZ', '/vZeDAZXC6TEQTUfnJdOBycJT', '/aChhOhX9Fh82Unwk9W61hZ6R', '/hEySjcmamrOJOBBoRVJ9Uw3N', '/dJMKVBj8ml45KrExNqH4AD9A', '/659VmZVtGZ9s0MSObe3HEff0', '/ginOFUcOdkNTQNUrMqpfC4eA', '/hKFRBYa7R8XgMShuRVx3eoDa', '/8raJ6JY0vDZOTav04um7i4mX', '/uE6hecIXj4SV96AEnfP4yhsJ', '/u4L2r4Lpl2EAqtArlHapDDmg', '/gtf3f4RN2AHzaLskTswCLbzL', '/xaOp3oLHSsX5oBU91gRwrvvT', '/8XxfnHuDiONbpe9Qdgy1quRT', '/dXrQkiZix1RLHITPIR7vCRZ', '/2tV0sFX4rEsDjJGce4iTmtiE', '/5uGXdsTbzYggUoaRjufeucjl', '/p3eM0bavSZCtSXtBCFXnEBrw', '/hwMpnhEnkaiEJgq8zKX14ZEO', '/bwm45VhsbZX4MWQ62qQGkRiO', '/pDpP5X8onikM0BcJKclfJSSD', '/gu2akbaGsCOvQ6iMLgHrYqqr', '/fhYGuhb6F5pRkCCyZheCboOQ', '/4yczqbgySDFKnQn526i4PiB', '/xjUh8kcX9FdlhoxCbGnPMhp5', '/szZsBTZ4qsvq0rykddkifIUk', '/gbl110ICMBlGyce65q4k8vuR', '/3nBroTvtHKi5JwSnMTzjgqRu', '/uJpfHwTP6EftgVPBexfCnfCs', '/3c971lDesm69jDczMA7Pzfv3', '/wab8bVku2Z67jnA0HcAXRors', '/tUr5tDcIhOVst7CQOj4pFWYx', '/yXPNSIUHetigBcGWiL9N4Gii', '/8czFCm9PfdGfVBovEMbAtXw4', '/oQRFmMHHgbMirPm4loGnA44B', '/147GUTJbwdzu39Z4UX4JcmiY', '/7w8GetQQJr5R3pQgkX4pnOyD', '/oFfwtHRuJKIXaUqOlziUafXZ', '/dE5B5AyOttFURkfMl6G2VdIF', '/7IsXrN9V5PEHC2zC5wxtHvzS', '/tvdwGDHQaONXEyLEFz5jZg4f', '/zIo0CQvP5Sx5cPGRAVRE5iEL', '/nahj3AEBRioFT9TEBNFC2oIs', '/e1jTwUgk3fZigBv2JeIspiIw', '/yWqta9EASoOSZznyVTPykFzw', '/2N5KBv5F3Eco6Oss294i1SLR', '/yEsSls9YsqfGLEq6DVRR2i6t', '/xaaUDcR9vsi8WGVcAUFXppXG', '/6hzyToAoNnTsJUSyaA0gnv9k', '/oXTQwehTAk3BjR6XvIz60aW5', '/54PWyaRjkPOHliUDzzLxpBiV', '/z5eWEpFF4FHmheEr6QCl3PpF', '/i7rKEdhD6byKrMAm5ZEjEDAq', '/wBp2bxKBiGEk2rZP7yjPl3OF', '/zIilZHFw5ZUreubMrztmNvcS', '/2GK8equGkkVB6b1TKhjKC7Ib', '/aqy2NAEm0QNA8j9PLujea5Dw', '/zS8FLnBrywBigRR38uXIWArl', '/ssRbBddnr23TwmgKlaAHZU1H', '/AXyGX4zhFdwvnQxBDhRsMGKt', '/3u4M9J6MavqTT3chqqVqLOYL', '/zoKSh0IJS1ZVD6GAgAOsmxLY', '/nOJOTrbHigLjnPpYDxzUNdwU', '/x3uKpr722n8DwQkS5ANJQXCw', '/pyJiP2Vq7RszJj0llC7Gpjy8', '/cBTgRJJ3GzndRKnEsHkAy9VT', '/8qLPazQQJtT0LQmjQBj8Iym6', '/8oZFoGH9eI4UoEGLim57UIaH', '/eSPm9vhfKqOpdlB3N52LSMf6', '/xjqq2mNtfoaEUwxLyoQVEeAj', '/mBZFqW5SPdGBhNQcTqZwVw8N', '/fUKlYdI5DiyuGeqluB4prPqj', '/aEaMMglL66zs8aUyCWaM6HCY', '/A7yzihV0kpbw8IF9ki8xIgyj', '/jFyCLPrGciJN5x410TApksek', '/nFpU75SOcuHWXmuDGxCs4I3A', '/ajebyZmIdKDOVFYk59FDZqOg', '/sA2SI8X5TwKOIXyMqrCU9e3U', '/xDLk6mCIcEGxHdBPPhWhYO9m', '/uh3I8gbhw8CjYndyXyf8OZDD', '/umq4BmdHucWtdlYblSzIaUyW', '/uP4hhv3h9EOwyuLhRlEaxsXJ', '/54WA8Cyf5tU7gfxfM19W1pcs', '/bbiuMKw0Vxpks32y66sxLPxC', '/xnDN0Y1dbfQzkXh8W5ibflVo', '/zuILunreA62N6NZVJWPJkBAU', '/r8eo5awGhqntuuBj1uZfNXDj', '/saWJApe2ib2EmKXoRWII5xnC', '/5GT0KLYRHkgr9bmdBXdftUZB', '/1ziLmUTuVGJV7eoqEaGcTzDv']\n",
      "135\n"
     ]
    },
    {
     "name": "stderr",
     "output_type": "stream",
     "text": [
      "\n"
     ]
    }
   ],
   "source": [
    "# Get car links\n",
    "base_url = \"https://www.cars45.com\"\n",
    "urls = []\n",
    "\n",
    "for i in tqdm(range(1, 11)):\n",
    "    req = requests.get(f\"{base_url}/listing?page={i}\").text\n",
    "    data = bs4(req, 'html.parser')\n",
    "    for item in data.find_all(class_='car-feature'):\n",
    "        urls.append(item['href'])"
   ]
  },
  {
   "cell_type": "markdown",
   "id": "388000d1",
   "metadata": {},
   "source": []
  },
  {
   "cell_type": "code",
   "execution_count": 68,
   "id": "060cb5f2",
   "metadata": {},
   "outputs": [
    {
     "name": "stdout",
     "output_type": "stream",
     "text": [
      "/pVXt3r6r50qW9EP9pNQ4UaVe\n",
      "done\n",
      "/uvHXSk0p7JEbHaAte6VGmC1d\n",
      "done\n",
      "/jOhUuxj0eqGjoNKcUXkdz259\n",
      "done\n",
      "/6CdsLr3x5KZIyvTlFRHw8fjt\n",
      "done\n",
      "/7S7WvZQZcIkI520aCNy42F1Q\n",
      "done\n",
      "/3Xn2ixt0LiGZKBcMEBk2tKYS\n",
      "done\n",
      "/BPOlZIce5EVwyq0kwZVCcFBi\n",
      "done\n",
      "/CiMgYtvaKohZZy2DAoah0sSy\n",
      "done\n",
      "/uH8tNfkAKk23wDmO7cizPMil\n",
      "done\n",
      "/dXIXGOzjMhNWHd0buV9PWvgp\n",
      "done\n",
      "/rOHjFddRoVljCSUSeJ97xwmL\n",
      "done\n",
      "11\n",
      "11\n",
      "11\n",
      "11\n",
      "11\n",
      "11\n",
      "11\n",
      "11\n"
     ]
    }
   ],
   "source": [
    "# Get car information\n",
    "make = []\n",
    "model = []\n",
    "year = []\n",
    "color = []\n",
    "condition = []\n",
    "mileage = []\n",
    "transmission = []\n",
    "price = []\n",
    "\n",
    "for link in urls[0:10]:\n",
    "    print(link)\n",
    "    \n",
    "    req = requests.get(f\"{base_url}{link}\").text\n",
    "    data = bs4(req, 'html.parser')\n",
    "    \n",
    "    price.append(data.find(\"h5\", class_=\"main-details__name__price\").text.strip().replace(\"₦\", \"\").lstrip())\n",
    "    transmission.append(data.find(\"div\", class_=\"main-details__tags flex wrap\").find_all(\"span\")[1].text.strip())\n",
    "    \n",
    "    description = [item.text.strip() for item in data.find_all(\"p\", class_=\"general-info__name\")]\n",
    "    make.append(description[0])\n",
    "    model.append(description[1])\n",
    "    year.append(description[2])\n",
    "    color.append(description[3])\n",
    "    condition.append(description[4])\n",
    "    mileage.append(description[5])\n",
    "    "
   ]
  },
  {
   "cell_type": "code",
   "execution_count": null,
   "id": "92b647c0",
   "metadata": {},
   "outputs": [],
   "source": []
  },
  {
   "cell_type": "code",
   "execution_count": null,
   "id": "af64fb77",
   "metadata": {},
   "outputs": [],
   "source": []
  },
  {
   "cell_type": "code",
   "execution_count": null,
   "id": "85607017",
   "metadata": {},
   "outputs": [],
   "source": []
  },
  {
   "cell_type": "code",
   "execution_count": null,
   "id": "25ab2a3f",
   "metadata": {},
   "outputs": [],
   "source": []
  },
  {
   "cell_type": "code",
   "execution_count": null,
   "id": "14fe8c47",
   "metadata": {},
   "outputs": [],
   "source": []
  },
  {
   "cell_type": "code",
   "execution_count": null,
   "id": "4ac58476",
   "metadata": {},
   "outputs": [],
   "source": []
  },
  {
   "cell_type": "code",
   "execution_count": null,
   "id": "545eadbc",
   "metadata": {},
   "outputs": [],
   "source": []
  }
 ],
 "metadata": {
  "kernelspec": {
   "display_name": "Python 3 (ipykernel)",
   "language": "python",
   "name": "python3"
  },
  "language_info": {
   "codemirror_mode": {
    "name": "ipython",
    "version": 3
   },
   "file_extension": ".py",
   "mimetype": "text/x-python",
   "name": "python",
   "nbconvert_exporter": "python",
   "pygments_lexer": "ipython3",
   "version": "3.10.12"
  }
 },
 "nbformat": 4,
 "nbformat_minor": 5
}
